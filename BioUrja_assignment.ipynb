import csv
from google.colab import drive
drive.mount('/content/drive')
# Load data
wind_farms = {}
total_forecast_by_zone = {'East': 0, 'North': 0, 'West': 0, 'South': 0}

with open('/content/drive/My Drive/wind_farms_data.csv', 'r') as file:
    reader = csv.DictReader(file)
    for row in reader:
        name = row['\ufeffPlant']
        capacity = float(row['Capacity'])
        forecast = float(row['Forecast'])
        zone = ''
        if 'E' in name:
            zone = 'East'
        elif 'N' in name:
            zone = 'North'
        elif 'W' in name:
            zone = 'West'
        else:
            zone = 'South'
        wind_farms[name] = {'capacity': capacity, 'forecast': forecast, 'zone': zone}
        total_forecast_by_zone[zone] += forecast

# Adjust forecast by capacity ratio and zonal total forecast
for name, data in wind_farms.items():
    zone = data['zone']
    zonal_forecast = {'East': 2800, 'North': 1500, 'West': 2000, 'South': 6500}[zone]
    ratio = data['forecast'] / data['capacity']
    data['adjusted_forecast'] = ratio * (zonal_forecast / total_forecast_by_zone[zone]) * data['capacity']
    if data['adjusted_forecast'] > data['capacity']:
        data['adjusted_forecast'] = data['capacity']

# Adjust for state total forecast
state_forecast = 12000
total_adjusted_forecast = sum([data['adjusted_forecast'] for data in wind_farms.values()])
scaling_factor = state_forecast / total_adjusted_forecast

for name, data in wind_farms.items():
    data['adjusted_forecast'] *= scaling_factor
    if data['adjusted_forecast'] > data['capacity']:
        data['adjusted_forecast'] = data['capacity']

# Output the result
print("Name,Adjusted Forecast")
for name, data in wind_farms.items():
    print(f"{name},{data['adjusted_forecast']}")
